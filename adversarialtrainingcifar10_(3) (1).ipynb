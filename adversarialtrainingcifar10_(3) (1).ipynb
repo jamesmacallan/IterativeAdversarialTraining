{
  "cells": [
    {
      "cell_type": "markdown",
      "source": [
        "# Data"
      ],
      "metadata": {
        "id": "ehccMKDmj5L1"
      },
      "id": "ehccMKDmj5L1"
    },
    {
      "cell_type": "code",
      "execution_count": null,
      "id": "1ca0348c",
      "metadata": {
        "id": "1ca0348c"
      },
      "outputs": [],
      "source": [
        "import matplotlib.pyplot as plt\n",
        "\n",
        "from matplotlib.pyplot import figure\n",
        "\n",
        "import tensorflow as tf\n",
        "from tensorflow import keras\n",
        "from tensorflow.keras import layers\n",
        "from tensorflow.keras.models import Sequential\n",
        "import numpy as np"
      ]
    },
    {
      "cell_type": "code",
      "execution_count": null,
      "id": "86d7757f",
      "metadata": {
        "id": "86d7757f",
        "colab": {
          "base_uri": "https://localhost:8080/"
        },
        "outputId": "55dc1447-5eec-4af0-ab30-6a77b63beeac"
      },
      "outputs": [
        {
          "output_type": "stream",
          "name": "stdout",
          "text": [
            "Downloading data from https://www.cs.toronto.edu/~kriz/cifar-10-python.tar.gz\n",
            "170498071/170498071 [==============================] - 2s 0us/step\n"
          ]
        }
      ],
      "source": [
        "from tensorflow.keras.datasets import cifar10\n",
        "(x_train, y_train), (x_test, y_test) = cifar10.load_data()"
      ]
    },
    {
      "cell_type": "code",
      "execution_count": null,
      "id": "ab860339",
      "metadata": {
        "id": "ab860339"
      },
      "outputs": [],
      "source": [
        "img_height, img_width, channels = 32, 32, 3\n",
        "labels = ['airplane', 'automobile', 'bird', 'cat', 'deer', 'dog', 'frog', 'horse', 'ship', 'truck']\n",
        "num_classes = len(labels)"
      ]
    },
    {
      "cell_type": "code",
      "execution_count": null,
      "id": "3c59c0ce",
      "metadata": {
        "id": "3c59c0ce"
      },
      "outputs": [],
      "source": [
        "x_train = x_train / 255\n",
        "x_test = x_test / 255"
      ]
    },
    {
      "cell_type": "markdown",
      "source": [
        "# Model"
      ],
      "metadata": {
        "id": "rAjjA-Ogj91l"
      },
      "id": "rAjjA-Ogj91l"
    },
    {
      "cell_type": "code",
      "execution_count": null,
      "id": "8efe29c3",
      "metadata": {
        "colab": {
          "base_uri": "https://localhost:8080/"
        },
        "id": "8efe29c3",
        "outputId": "ada40e96-e355-4b61-e3fd-f8ea334ca4b8"
      },
      "outputs": [
        {
          "output_type": "stream",
          "name": "stdout",
          "text": [
            "Model: \"sequential_8\"\n",
            "_________________________________________________________________\n",
            " Layer (type)                Output Shape              Param #   \n",
            "=================================================================\n",
            " conv2d_24 (Conv2D)          (None, 30, 30, 32)        896       \n",
            "                                                                 \n",
            " max_pooling2d_16 (MaxPoolin  (None, 15, 15, 32)       0         \n",
            " g2D)                                                            \n",
            "                                                                 \n",
            " conv2d_25 (Conv2D)          (None, 13, 13, 64)        18496     \n",
            "                                                                 \n",
            " max_pooling2d_17 (MaxPoolin  (None, 6, 6, 64)         0         \n",
            " g2D)                                                            \n",
            "                                                                 \n",
            " conv2d_26 (Conv2D)          (None, 4, 4, 128)         73856     \n",
            "                                                                 \n",
            " flatten_8 (Flatten)         (None, 2048)              0         \n",
            "                                                                 \n",
            " dense_16 (Dense)            (None, 64)                131136    \n",
            "                                                                 \n",
            " dense_17 (Dense)            (None, 10)                650       \n",
            "                                                                 \n",
            "=================================================================\n",
            "Total params: 225,034\n",
            "Trainable params: 225,034\n",
            "Non-trainable params: 0\n",
            "_________________________________________________________________\n"
          ]
        }
      ],
      "source": [
        "model = tf.keras.Sequential(\n",
        "    [\n",
        "        tf.keras.layers.Input(shape= (32,32,3)),                                          \n",
        "        tf.keras.layers.Conv2D(32, 3, padding = \"valid\", activation = \"relu\"),             \n",
        "        tf.keras.layers.MaxPooling2D(pool_size = (2,2)),                                  \n",
        "        tf.keras.layers.Conv2D(64, 3, activation = \"relu\"),                                                            \n",
        "        tf.keras.layers.MaxPooling2D(pool_size = (2,2)),                                  \n",
        "        tf.keras.layers.Conv2D(128, 3, activation = \"relu\"),                             \n",
        "        tf.keras.layers.Flatten(),                                                        \n",
        "        tf.keras.layers.Dense(64, activation = \"relu\"),                                   \n",
        "        tf.keras.layers.Dense(10),                                                        \n",
        "    \n",
        "    ]\n",
        ")\n",
        "\n",
        "model.summary()"
      ]
    },
    {
      "cell_type": "code",
      "source": [
        "model_adversary = tf.keras.Sequential(\n",
        "    [\n",
        "        tf.keras.layers.Input(shape= (32,32,3)),                                          \n",
        "        tf.keras.layers.Conv2D(32, 3, padding = \"valid\", activation = \"relu\"),             \n",
        "        tf.keras.layers.MaxPooling2D(pool_size = (2,2)),                                  \n",
        "        tf.keras.layers.Conv2D(64, 3, activation = \"relu\"),                                                            \n",
        "        tf.keras.layers.MaxPooling2D(pool_size = (2,2)),                                  \n",
        "        tf.keras.layers.Conv2D(128, 3, activation = \"relu\"),                             \n",
        "        tf.keras.layers.Flatten(),                                                        \n",
        "        tf.keras.layers.Dense(64, activation = \"relu\"),                                   \n",
        "        tf.keras.layers.Dense(10),                                                        \n",
        "    \n",
        "    ]\n",
        ")\n",
        "\n",
        "model_adversary.summary()\n",
        "model_adversary.compile(optimizer=\"adam\",\n",
        "              loss=tf.keras.losses.SparseCategoricalCrossentropy(from_logits=True),\n",
        "              metrics=['accuracy'])"
      ],
      "metadata": {
        "colab": {
          "base_uri": "https://localhost:8080/"
        },
        "id": "-gHtYfSE7HTH",
        "outputId": "72077f6f-5d03-4f57-b745-985b681c90a4"
      },
      "id": "-gHtYfSE7HTH",
      "execution_count": null,
      "outputs": [
        {
          "output_type": "stream",
          "name": "stdout",
          "text": [
            "Model: \"sequential_5\"\n",
            "_________________________________________________________________\n",
            " Layer (type)                Output Shape              Param #   \n",
            "=================================================================\n",
            " conv2d_15 (Conv2D)          (None, 30, 30, 32)        896       \n",
            "                                                                 \n",
            " max_pooling2d_10 (MaxPoolin  (None, 15, 15, 32)       0         \n",
            " g2D)                                                            \n",
            "                                                                 \n",
            " conv2d_16 (Conv2D)          (None, 13, 13, 64)        18496     \n",
            "                                                                 \n",
            " max_pooling2d_11 (MaxPoolin  (None, 6, 6, 64)         0         \n",
            " g2D)                                                            \n",
            "                                                                 \n",
            " conv2d_17 (Conv2D)          (None, 4, 4, 128)         73856     \n",
            "                                                                 \n",
            " flatten_5 (Flatten)         (None, 2048)              0         \n",
            "                                                                 \n",
            " dense_10 (Dense)            (None, 64)                131136    \n",
            "                                                                 \n",
            " dense_11 (Dense)            (None, 10)                650       \n",
            "                                                                 \n",
            "=================================================================\n",
            "Total params: 225,034\n",
            "Trainable params: 225,034\n",
            "Non-trainable params: 0\n",
            "_________________________________________________________________\n"
          ]
        }
      ]
    },
    {
      "cell_type": "code",
      "source": [
        "model_mixed = tf.keras.Sequential(\n",
        "    [\n",
        "        tf.keras.layers.Input(shape= (32,32,3)),                                          \n",
        "        tf.keras.layers.Conv2D(32, 3, padding = \"valid\", activation = \"relu\"),             \n",
        "        tf.keras.layers.MaxPooling2D(pool_size = (2,2)),                                  \n",
        "        tf.keras.layers.Conv2D(64, 3, activation = \"relu\"),                                                            \n",
        "        tf.keras.layers.MaxPooling2D(pool_size = (2,2)),                                  \n",
        "        tf.keras.layers.Conv2D(128, 3, activation = \"relu\"),                             \n",
        "        tf.keras.layers.Flatten(),                                                        \n",
        "        tf.keras.layers.Dense(64, activation = \"relu\"),                                   \n",
        "        tf.keras.layers.Dense(10),                                                        \n",
        "    \n",
        "    ]\n",
        ")\n",
        "\n",
        "\n",
        "model_mixed.summary()\n",
        "model_mixed.compile(optimizer=\"adam\",\n",
        "              loss=tf.keras.losses.SparseCategoricalCrossentropy(from_logits=True),\n",
        "              metrics=['accuracy'])"
      ],
      "metadata": {
        "colab": {
          "base_uri": "https://localhost:8080/"
        },
        "id": "kfqcjxm17LgX",
        "outputId": "027a696c-13aa-43bf-b7cf-61393871d3e5"
      },
      "id": "kfqcjxm17LgX",
      "execution_count": null,
      "outputs": [
        {
          "output_type": "stream",
          "name": "stdout",
          "text": [
            "Model: \"sequential_6\"\n",
            "_________________________________________________________________\n",
            " Layer (type)                Output Shape              Param #   \n",
            "=================================================================\n",
            " conv2d_18 (Conv2D)          (None, 30, 30, 32)        896       \n",
            "                                                                 \n",
            " max_pooling2d_12 (MaxPoolin  (None, 15, 15, 32)       0         \n",
            " g2D)                                                            \n",
            "                                                                 \n",
            " conv2d_19 (Conv2D)          (None, 13, 13, 64)        18496     \n",
            "                                                                 \n",
            " max_pooling2d_13 (MaxPoolin  (None, 6, 6, 64)         0         \n",
            " g2D)                                                            \n",
            "                                                                 \n",
            " conv2d_20 (Conv2D)          (None, 4, 4, 128)         73856     \n",
            "                                                                 \n",
            " flatten_6 (Flatten)         (None, 2048)              0         \n",
            "                                                                 \n",
            " dense_12 (Dense)            (None, 64)                131136    \n",
            "                                                                 \n",
            " dense_13 (Dense)            (None, 10)                650       \n",
            "                                                                 \n",
            "=================================================================\n",
            "Total params: 225,034\n",
            "Trainable params: 225,034\n",
            "Non-trainable params: 0\n",
            "_________________________________________________________________\n"
          ]
        }
      ]
    },
    {
      "cell_type": "code",
      "source": [
        "model_second_order = tf.keras.Sequential(\n",
        "    [\n",
        "        tf.keras.layers.Input(shape= (32,32,3)),                                          \n",
        "        tf.keras.layers.Conv2D(32, 3, padding = \"valid\", activation = \"relu\"),             \n",
        "        tf.keras.layers.MaxPooling2D(pool_size = (2,2)),                                  \n",
        "        tf.keras.layers.Conv2D(64, 3, activation = \"relu\"),                                                            \n",
        "        tf.keras.layers.MaxPooling2D(pool_size = (2,2)),                                  \n",
        "        tf.keras.layers.Conv2D(128, 3, activation = \"relu\"),                             \n",
        "        tf.keras.layers.Flatten(),                                                        \n",
        "        tf.keras.layers.Dense(64, activation = \"relu\"),                                   \n",
        "        tf.keras.layers.Dense(10),                                                        \n",
        "    \n",
        "    ]\n",
        ")\n",
        "\n",
        "model_second_order.summary()\n",
        "model_second_order.compile(optimizer=\"adam\",\n",
        "              loss=tf.keras.losses.SparseCategoricalCrossentropy(from_logits=True),\n",
        "              metrics=['accuracy'])"
      ],
      "metadata": {
        "colab": {
          "base_uri": "https://localhost:8080/"
        },
        "id": "wZkRpjzf7NfM",
        "outputId": "98460d16-b624-442f-cc94-9bb0265b1aae"
      },
      "id": "wZkRpjzf7NfM",
      "execution_count": null,
      "outputs": [
        {
          "output_type": "stream",
          "name": "stdout",
          "text": [
            "Model: \"sequential_7\"\n",
            "_________________________________________________________________\n",
            " Layer (type)                Output Shape              Param #   \n",
            "=================================================================\n",
            " conv2d_21 (Conv2D)          (None, 30, 30, 32)        896       \n",
            "                                                                 \n",
            " max_pooling2d_14 (MaxPoolin  (None, 15, 15, 32)       0         \n",
            " g2D)                                                            \n",
            "                                                                 \n",
            " conv2d_22 (Conv2D)          (None, 13, 13, 64)        18496     \n",
            "                                                                 \n",
            " max_pooling2d_15 (MaxPoolin  (None, 6, 6, 64)         0         \n",
            " g2D)                                                            \n",
            "                                                                 \n",
            " conv2d_23 (Conv2D)          (None, 4, 4, 128)         73856     \n",
            "                                                                 \n",
            " flatten_7 (Flatten)         (None, 2048)              0         \n",
            "                                                                 \n",
            " dense_14 (Dense)            (None, 64)                131136    \n",
            "                                                                 \n",
            " dense_15 (Dense)            (None, 10)                650       \n",
            "                                                                 \n",
            "=================================================================\n",
            "Total params: 225,034\n",
            "Trainable params: 225,034\n",
            "Non-trainable params: 0\n",
            "_________________________________________________________________\n"
          ]
        }
      ]
    },
    {
      "cell_type": "code",
      "execution_count": null,
      "id": "289121ba",
      "metadata": {
        "id": "289121ba"
      },
      "outputs": [],
      "source": [
        "model.compile(optimizer=\"adam\",\n",
        "              loss=tf.keras.losses.SparseCategoricalCrossentropy(from_logits=True),\n",
        "              metrics=['accuracy'])"
      ]
    },
    {
      "cell_type": "code",
      "execution_count": null,
      "id": "0c0ea002",
      "metadata": {
        "colab": {
          "base_uri": "https://localhost:8080/"
        },
        "id": "0c0ea002",
        "outputId": "485965b8-1a12-479d-c8d2-2f095540b31e"
      },
      "outputs": [
        {
          "output_type": "stream",
          "name": "stdout",
          "text": [
            "Epoch 1/10\n",
            "1563/1563 [==============================] - 9s 5ms/step - loss: 1.4947 - accuracy: 0.4540 - val_loss: 1.2546 - val_accuracy: 0.5513\n",
            "Epoch 2/10\n",
            "1563/1563 [==============================] - 7s 4ms/step - loss: 1.1001 - accuracy: 0.6150 - val_loss: 1.1049 - val_accuracy: 0.6078\n",
            "Epoch 3/10\n",
            "1563/1563 [==============================] - 7s 4ms/step - loss: 0.9423 - accuracy: 0.6700 - val_loss: 0.9717 - val_accuracy: 0.6601\n",
            "Epoch 4/10\n",
            "1563/1563 [==============================] - 7s 4ms/step - loss: 0.8371 - accuracy: 0.7072 - val_loss: 0.8919 - val_accuracy: 0.6880\n",
            "Epoch 5/10\n",
            "1563/1563 [==============================] - 7s 4ms/step - loss: 0.7604 - accuracy: 0.7345 - val_loss: 0.8521 - val_accuracy: 0.7056\n",
            "Epoch 6/10\n",
            "1563/1563 [==============================] - 7s 4ms/step - loss: 0.6883 - accuracy: 0.7574 - val_loss: 0.8413 - val_accuracy: 0.7119\n",
            "Epoch 7/10\n",
            "1563/1563 [==============================] - 7s 4ms/step - loss: 0.6329 - accuracy: 0.7787 - val_loss: 0.8888 - val_accuracy: 0.7021\n",
            "Epoch 8/10\n",
            "1563/1563 [==============================] - 7s 4ms/step - loss: 0.5792 - accuracy: 0.7955 - val_loss: 0.8736 - val_accuracy: 0.7147\n",
            "Epoch 9/10\n",
            "1563/1563 [==============================] - 7s 4ms/step - loss: 0.5351 - accuracy: 0.8125 - val_loss: 0.8837 - val_accuracy: 0.7151\n",
            "Epoch 10/10\n",
            "1563/1563 [==============================] - 7s 4ms/step - loss: 0.4845 - accuracy: 0.8293 - val_loss: 0.9196 - val_accuracy: 0.7153\n"
          ]
        }
      ],
      "source": [
        "epochs = 10\n",
        "history = model.fit(x_train, y_train,\n",
        "  batch_size = 32,\n",
        "  epochs = epochs, \n",
        "  validation_data=(x_test, y_test))"
      ]
    },
    {
      "cell_type": "code",
      "execution_count": null,
      "id": "b7c492a3",
      "metadata": {
        "colab": {
          "base_uri": "https://localhost:8080/",
          "height": 499
        },
        "id": "b7c492a3",
        "outputId": "17b0581a-3e90-4648-c797-fcda58c159ff"
      },
      "outputs": [
        {
          "output_type": "display_data",
          "data": {
            "text/plain": [
              "<Figure size 576x576 with 2 Axes>"
            ],
            "image/png": "[encoded data removed]"
          },
          "metadata": {
            "needs_background": "light"
          }
        }
      ],
      "source": [
        "acc = history.history['accuracy']\n",
        "val_acc = history.history['val_accuracy']\n",
        "\n",
        "loss = history.history['loss']\n",
        "val_loss = history.history['val_loss']\n",
        "\n",
        "epochs_range = range(epochs)\n",
        "\n",
        "plt.figure(figsize=(8, 8))\n",
        "plt.subplot(1, 2, 1)\n",
        "plt.plot(epochs_range, acc, label='Training Accuracy')\n",
        "plt.plot(epochs_range, val_acc, label='Validation Accuracy')\n",
        "plt.legend(loc='lower right')\n",
        "plt.title('Training and Validation Accuracy')\n",
        "\n",
        "plt.subplot(1, 2, 2)\n",
        "plt.plot(epochs_range, loss, label='Training Loss')\n",
        "plt.plot(epochs_range, val_loss, label='Validation Loss')\n",
        "plt.legend(loc='upper right')\n",
        "plt.title('Training and Validation Loss')\n",
        "plt.show()"
      ]
    },
    {
      "cell_type": "code",
      "execution_count": null,
      "id": "b56aca0c",
      "metadata": {
        "colab": {
          "base_uri": "https://localhost:8080/"
        },
        "id": "b56aca0c",
        "outputId": "72704fa8-6643-4175-d412-7cfc693aad60"
      },
      "outputs": [
        {
          "output_type": "stream",
          "name": "stdout",
          "text": [
            "Base accuracy on regular images: [0.9261953234672546, 0.7146000266075134]\n"
          ]
        }
      ],
      "source": [
        "print(\"Base accuracy on regular images:\", model.evaluate(x=x_test, y=y_test, verbose=0))"
      ]
    },
    {
      "cell_type": "markdown",
      "source": [
        "# Generating one Adversarial Example"
      ],
      "metadata": {
        "id": "Rzm9Sos0kDnd"
      },
      "id": "Rzm9Sos0kDnd"
    },
    {
      "cell_type": "code",
      "execution_count": null,
      "id": "e0e48ff0",
      "metadata": {
        "id": "e0e48ff0"
      },
      "outputs": [],
      "source": [
        "def adversarial_pattern(image, label):\n",
        "    image = tf.cast(image, tf.float32)\n",
        "    \n",
        "    with tf.GradientTape() as tape:\n",
        "        tape.watch(image)\n",
        "        prediction = model(image)\n",
        "        loss = tf.keras.losses.MSE(label, prediction)\n",
        "    \n",
        "    gradient = tape.gradient(loss, image)\n",
        "    \n",
        "    signed_grad = -1*tf.sign(gradient)\n",
        "    \n",
        "    return signed_grad"
      ]
    },
    {
      "cell_type": "code",
      "execution_count": null,
      "id": "015f3de1",
      "metadata": {
        "colab": {
          "base_uri": "https://localhost:8080/",
          "height": 353
        },
        "id": "015f3de1",
        "outputId": "c26ec571-5eec-4427-a338-2eeeb3c72fb5"
      },
      "outputs": [
        {
          "output_type": "stream",
          "name": "stdout",
          "text": [
            "1/1 [==============================] - 0s 22ms/step\n",
            "frog\n",
            "1/1 [==============================] - 0s 19ms/step\n"
          ]
        },
        {
          "output_type": "stream",
          "name": "stderr",
          "text": [
            "WARNING:matplotlib.image:Clipping input data to the valid range for imshow with RGB data ([0..1] for floats or [0..255] for integers).\n"
          ]
        },
        {
          "output_type": "stream",
          "name": "stdout",
          "text": [
            "frog\n"
          ]
        },
        {
          "output_type": "display_data",
          "data": {
            "text/plain": [
              "<Figure size 432x288 with 1 Axes>"
            ],
            "image/png": "[encoded data removed]"
          },
          "metadata": {
            "needs_background": "light"
          }
        }
      ],
      "source": [
        "image = x_train[0]\n",
        "image_label = y_train[0]\n",
        "perturbations = adversarial_pattern(image.reshape((1, img_height, img_width, channels)), image_label).numpy()\n",
        "adversarial = image + perturbations * 0.1"
      ]
    },
    {
      "cell_type": "code",
      "source": [
        "plt.figure()\n",
        "predictions = model.predict(image.reshape((1, img_height, img_width, channels)))\n",
        "score = tf.nn.softmax(predictions[0])\n",
        "\n",
        "plt.imshow(image)\n",
        "plt.title(\"image most likely belongs to {} with a {:.2f} percent confidence.\".format(labels[np.argmax(score)], \n",
        "                                                                                           100 * np.max(score)))\n",
        "plt.show()"
      ],
      "metadata": {
        "colab": {
          "base_uri": "https://localhost:8080/",
          "height": 298
        },
        "id": "NKnFDRFgTqxc",
        "outputId": "8d7c8d8e-effc-4906-d0d3-eacdca3355f6"
      },
      "id": "NKnFDRFgTqxc",
      "execution_count": null,
      "outputs": [
        {
          "output_type": "stream",
          "name": "stdout",
          "text": [
            "1/1 [==============================] - 0s 20ms/step\n"
          ]
        },
        {
          "output_type": "display_data",
          "data": {
            "text/plain": [
              "<Figure size 432x288 with 1 Axes>"
            ],
            "image/png": "[encoded data removed]"
          },
          "metadata": {
            "needs_background": "light"
          }
        }
      ]
    },
    {
      "cell_type": "code",
      "source": [
        "  plt.imshow(perturbations.reshape((img_height, img_width, channels)))\n",
        "  plt.show()\n"
      ],
      "metadata": {
        "colab": {
          "base_uri": "https://localhost:8080/",
          "height": 283
        },
        "id": "tQGF5LfnQBJ-",
        "outputId": "1ae63c7a-6e7b-4105-cb3b-bd4d3a75924f"
      },
      "id": "tQGF5LfnQBJ-",
      "execution_count": null,
      "outputs": [
        {
          "output_type": "stream",
          "name": "stderr",
          "text": [
            "WARNING:matplotlib.image:Clipping input data to the valid range for imshow with RGB data ([0..1] for floats or [0..255] for integers).\n"
          ]
        },
        {
          "output_type": "display_data",
          "data": {
            "text/plain": [
              "<Figure size 432x288 with 1 Axes>"
            ],
            "image/png": "[encoded data removed]"
          },
          "metadata": {
            "needs_background": "light"
          }
        }
      ]
    },
    {
      "cell_type": "code",
      "source": [
        "plt.figure()\n",
        "plt.imshow(adversarial.reshape((img_height, img_width, channels)))\n",
        "predictions = model.predict(adversarial)\n",
        "score = tf.nn.softmax(predictions[0])\n",
        "\n",
        "plt.title(\"image most likely belongs to {} with a {:.2f} percent confidence.\".format(labels[np.argmax(score)], \n",
        "                                                                                           100 * np.max(score)))\n",
        "plt.show()"
      ],
      "metadata": {
        "colab": {
          "base_uri": "https://localhost:8080/",
          "height": 316
        },
        "id": "Vcujp297RRk7",
        "outputId": "9a52635b-43a1-40d7-b548-d328caeb8e9b"
      },
      "id": "Vcujp297RRk7",
      "execution_count": null,
      "outputs": [
        {
          "output_type": "stream",
          "name": "stderr",
          "text": [
            "WARNING:matplotlib.image:Clipping input data to the valid range for imshow with RGB data ([0..1] for floats or [0..255] for integers).\n"
          ]
        },
        {
          "output_type": "stream",
          "name": "stdout",
          "text": [
            "1/1 [==============================] - 0s 19ms/step\n"
          ]
        },
        {
          "output_type": "display_data",
          "data": {
            "text/plain": [
              "<Figure size 432x288 with 1 Axes>"
            ],
            "image/png": "[encoded data removed]"
          },
          "metadata": {
            "needs_background": "light"
          }
        }
      ]
    },
    {
      "cell_type": "markdown",
      "source": [
        "# Generating Adversarial Dataset"
      ],
      "metadata": {
        "id": "V2DaWIVbb2m9"
      },
      "id": "V2DaWIVbb2m9"
    },
    {
      "cell_type": "code",
      "execution_count": null,
      "id": "4cdf17f3",
      "metadata": {
        "id": "4cdf17f3"
      },
      "outputs": [],
      "source": [
        "def generate_adversarials(batch_size):\n",
        "    while True:\n",
        "        x = []\n",
        "        y = []\n",
        "        for batch in range(batch_size):\n",
        "            N = np.random.randint(0, 100)\n",
        "\n",
        "            label = y_train[N]\n",
        "            image = x_train[N]\n",
        "            \n",
        "            perturbations = adversarial_pattern(image.reshape((1, img_height, img_width, channels)), label).numpy()\n",
        "            \n",
        "            epsilon = 0.1\n",
        "            adversarial = image + perturbations * epsilon\n",
        "            \n",
        "            x.append(adversarial)\n",
        "            y.append(y_train[N])\n",
        "        \n",
        "        \n",
        "        x = np.asarray(x).reshape((batch_size, img_height, img_width, channels))\n",
        "        y = np.asarray(y)\n",
        "        \n",
        "        yield x, y"
      ]
    },
    {
      "cell_type": "code",
      "execution_count": null,
      "id": "7d6d2679",
      "metadata": {
        "id": "7d6d2679"
      },
      "outputs": [],
      "source": [
        "# adversarials, correct_labels = next(generate_adversarials(5))\n",
        "# for adversarial, correct_label in zip(adversarials, correct_labels):\n",
        "#     print('Prediction:', labels[model.predict(adversarial.reshape((1, img_height, img_width, channels))).argmax()], 'Truth:', labels[correct_label.argmax()])\n",
        "#     if channels == 1:\n",
        "#         plt.imshow(adversarial.reshape(img_height, img_width))\n",
        "#     else:\n",
        "#         plt.imshow(adversarial)\n",
        "#     plt.show()"
      ]
    },
    {
      "cell_type": "code",
      "execution_count": null,
      "id": "4adf2674",
      "metadata": {
        "id": "4adf2674"
      },
      "outputs": [],
      "source": [
        "x_adversarial_train, y_adversarial_train = next(generate_adversarials(20000))\n",
        "x_adversarial_test, y_adversarial_test = next(generate_adversarials(10000))"
      ]
    },
    {
      "cell_type": "code",
      "execution_count": null,
      "id": "25a7eff1",
      "metadata": {
        "colab": {
          "base_uri": "https://localhost:8080/"
        },
        "id": "25a7eff1",
        "outputId": "957de8e4-fbd8-4aec-9084-fc7ab20fcf58"
      },
      "outputs": [
        {
          "output_type": "stream",
          "name": "stdout",
          "text": [
            "Base accuracy on adversarial images: [2.633537769317627, 0.5393999814987183]\n"
          ]
        }
      ],
      "source": [
        "print(\"Base accuracy on adversarial images:\", model.evaluate(x=x_adversarial_test, y=y_adversarial_test, verbose=0))"
      ]
    },
    {
      "cell_type": "markdown",
      "source": [
        "# Training on Only Adversarial images. \n",
        "#### COMMENT OUT or one of the cell blocks below will return something incorrect"
      ],
      "metadata": {
        "id": "TojIVFshki9I"
      },
      "id": "TojIVFshki9I"
    },
    {
      "cell_type": "code",
      "execution_count": null,
      "id": "08592cc3",
      "metadata": {
        "colab": {
          "base_uri": "https://localhost:8080/"
        },
        "id": "08592cc3",
        "outputId": "f1e9af9f-b00e-418c-e8cb-bd0dbf07fdd7"
      },
      "outputs": [
        {
          "output_type": "stream",
          "name": "stdout",
          "text": [
            "Epoch 1/10\n",
            "625/625 [==============================] - 4s 6ms/step - loss: 0.0270 - accuracy: 0.9938 - val_loss: 3.7428 - val_accuracy: 0.4108\n",
            "Epoch 2/10\n",
            "625/625 [==============================] - 3s 6ms/step - loss: 1.2438e-05 - accuracy: 1.0000 - val_loss: 4.1025 - val_accuracy: 0.4006\n",
            "Epoch 3/10\n",
            "625/625 [==============================] - 4s 6ms/step - loss: 5.2276e-06 - accuracy: 1.0000 - val_loss: 4.4760 - val_accuracy: 0.3861\n",
            "Epoch 4/10\n",
            "625/625 [==============================] - 6s 10ms/step - loss: 2.7451e-06 - accuracy: 1.0000 - val_loss: 4.6886 - val_accuracy: 0.3838\n",
            "Epoch 5/10\n",
            "625/625 [==============================] - 8s 13ms/step - loss: 1.6083e-06 - accuracy: 1.0000 - val_loss: 4.8925 - val_accuracy: 0.3781\n",
            "Epoch 6/10\n",
            "625/625 [==============================] - 4s 6ms/step - loss: 9.9418e-07 - accuracy: 1.0000 - val_loss: 5.1031 - val_accuracy: 0.3731\n",
            "Epoch 7/10\n",
            "625/625 [==============================] - 5s 8ms/step - loss: 6.4754e-07 - accuracy: 1.0000 - val_loss: 5.2657 - val_accuracy: 0.3710\n",
            "Epoch 8/10\n",
            "625/625 [==============================] - 6s 9ms/step - loss: 4.2968e-07 - accuracy: 1.0000 - val_loss: 5.4082 - val_accuracy: 0.3675\n",
            "Epoch 9/10\n",
            "625/625 [==============================] - 4s 6ms/step - loss: 2.9399e-07 - accuracy: 1.0000 - val_loss: 5.5695 - val_accuracy: 0.3645\n",
            "Epoch 10/10\n",
            "625/625 [==============================] - 4s 7ms/step - loss: 1.9696e-07 - accuracy: 1.0000 - val_loss: 5.6489 - val_accuracy: 0.3649\n"
          ]
        },
        {
          "output_type": "execute_result",
          "data": {
            "text/plain": [
              "<keras.callbacks.History at 0x7f75ac08c3d0>"
            ]
          },
          "metadata": {},
          "execution_count": 27
        }
      ],
      "source": [
        "model_adversary.fit(x_adversarial_train, y_adversarial_train,\n",
        "          batch_size=32,\n",
        "          epochs=epochs,\n",
        "          validation_data=(x_test, y_test))"
      ]
    },
    {
      "cell_type": "code",
      "execution_count": null,
      "id": "812dc531",
      "metadata": {
        "colab": {
          "base_uri": "https://localhost:8080/",
          "height": 397
        },
        "id": "812dc531",
        "outputId": "03450b66-8371-4751-d11e-18b4eb1ec898"
      },
      "outputs": [
        {
          "output_type": "stream",
          "name": "stdout",
          "text": [
            "Defended accuracy on adversarial images: [1.6525982005077822e-07, 1.0]\n",
            "Defended accuracy on regular images: [5.648899555206299, 0.36489999294281006]\n",
            "    364/Unknown - 71s 195ms/step - loss: 6.5907 - accuracy: 0.4126"
          ]
        },
        {
          "output_type": "error",
          "ename": "KeyboardInterrupt",
          "evalue": "ignored",
          "traceback": [
            "\u001b[0;31m---------------------------------------------------------------------------\u001b[0m",
            "\u001b[0;31mKeyboardInterrupt\u001b[0m                         Traceback (most recent call last)",
            "\u001b[0;32m<ipython-input-28-6815fa5471fe>\u001b[0m in \u001b[0;36m<module>\u001b[0;34m\u001b[0m\n\u001b[1;32m      5\u001b[0m \u001b[0mprint\u001b[0m\u001b[0;34m(\u001b[0m\u001b[0;34m\"Defended accuracy on regular images:\"\u001b[0m\u001b[0;34m,\u001b[0m \u001b[0mmodel\u001b[0m\u001b[0;34m.\u001b[0m\u001b[0mevaluate\u001b[0m\u001b[0;34m(\u001b[0m\u001b[0mx\u001b[0m\u001b[0;34m=\u001b[0m\u001b[0mx_test\u001b[0m\u001b[0;34m,\u001b[0m \u001b[0my\u001b[0m\u001b[0;34m=\u001b[0m\u001b[0my_test\u001b[0m\u001b[0;34m,\u001b[0m \u001b[0mverbose\u001b[0m\u001b[0;34m=\u001b[0m\u001b[0;36m0\u001b[0m\u001b[0;34m)\u001b[0m\u001b[0;34m)\u001b[0m\u001b[0;34m\u001b[0m\u001b[0;34m\u001b[0m\u001b[0m\n\u001b[1;32m      6\u001b[0m \u001b[0;34m\u001b[0m\u001b[0m\n\u001b[0;32m----> 7\u001b[0;31m \u001b[0mprint\u001b[0m\u001b[0;34m(\u001b[0m\u001b[0mmodel\u001b[0m\u001b[0;34m.\u001b[0m\u001b[0mevaluate\u001b[0m\u001b[0;34m(\u001b[0m\u001b[0mdataGen\u001b[0m\u001b[0;34m,\u001b[0m \u001b[0mbatch_size\u001b[0m\u001b[0;34m=\u001b[0m\u001b[0;36m32\u001b[0m\u001b[0;34m,\u001b[0m \u001b[0mverbose\u001b[0m\u001b[0;34m=\u001b[0m\u001b[0;36m1\u001b[0m\u001b[0;34m)\u001b[0m\u001b[0;34m)\u001b[0m\u001b[0;34m\u001b[0m\u001b[0;34m\u001b[0m\u001b[0m\n\u001b[0m",
            "\u001b[0;32m/usr/local/lib/python3.9/dist-packages/keras/utils/traceback_utils.py\u001b[0m in \u001b[0;36merror_handler\u001b[0;34m(*args, **kwargs)\u001b[0m\n\u001b[1;32m     63\u001b[0m         \u001b[0mfiltered_tb\u001b[0m \u001b[0;34m=\u001b[0m \u001b[0;32mNone\u001b[0m\u001b[0;34m\u001b[0m\u001b[0;34m\u001b[0m\u001b[0m\n\u001b[1;32m     64\u001b[0m         \u001b[0;32mtry\u001b[0m\u001b[0;34m:\u001b[0m\u001b[0;34m\u001b[0m\u001b[0;34m\u001b[0m\u001b[0m\n\u001b[0;32m---> 65\u001b[0;31m             \u001b[0;32mreturn\u001b[0m \u001b[0mfn\u001b[0m\u001b[0;34m(\u001b[0m\u001b[0;34m*\u001b[0m\u001b[0margs\u001b[0m\u001b[0;34m,\u001b[0m \u001b[0;34m**\u001b[0m\u001b[0mkwargs\u001b[0m\u001b[0;34m)\u001b[0m\u001b[0;34m\u001b[0m\u001b[0;34m\u001b[0m\u001b[0m\n\u001b[0m\u001b[1;32m     66\u001b[0m         \u001b[0;32mexcept\u001b[0m \u001b[0mException\u001b[0m \u001b[0;32mas\u001b[0m \u001b[0me\u001b[0m\u001b[0;34m:\u001b[0m\u001b[0;34m\u001b[0m\u001b[0;34m\u001b[0m\u001b[0m\n\u001b[1;32m     67\u001b[0m             \u001b[0mfiltered_tb\u001b[0m \u001b[0;34m=\u001b[0m \u001b[0m_process_traceback_frames\u001b[0m\u001b[0;34m(\u001b[0m\u001b[0me\u001b[0m\u001b[0;34m.\u001b[0m\u001b[0m__traceback__\u001b[0m\u001b[0;34m)\u001b[0m\u001b[0;34m\u001b[0m\u001b[0;34m\u001b[0m\u001b[0m\n",
            "\u001b[0;32m/usr/local/lib/python3.9/dist-packages/keras/engine/training.py\u001b[0m in \u001b[0;36mevaluate\u001b[0;34m(self, x, y, batch_size, verbose, sample_weight, steps, callbacks, max_queue_size, workers, use_multiprocessing, return_dict, **kwargs)\u001b[0m\n\u001b[1;32m   2038\u001b[0m                         ):\n\u001b[1;32m   2039\u001b[0m                             \u001b[0mcallbacks\u001b[0m\u001b[0;34m.\u001b[0m\u001b[0mon_test_batch_begin\u001b[0m\u001b[0;34m(\u001b[0m\u001b[0mstep\u001b[0m\u001b[0;34m)\u001b[0m\u001b[0;34m\u001b[0m\u001b[0;34m\u001b[0m\u001b[0m\n\u001b[0;32m-> 2040\u001b[0;31m                             \u001b[0mtmp_logs\u001b[0m \u001b[0;34m=\u001b[0m \u001b[0mself\u001b[0m\u001b[0;34m.\u001b[0m\u001b[0mtest_function\u001b[0m\u001b[0;34m(\u001b[0m\u001b[0miterator\u001b[0m\u001b[0;34m)\u001b[0m\u001b[0;34m\u001b[0m\u001b[0;34m\u001b[0m\u001b[0m\n\u001b[0m\u001b[1;32m   2041\u001b[0m                             \u001b[0;32mif\u001b[0m \u001b[0mdata_handler\u001b[0m\u001b[0;34m.\u001b[0m\u001b[0mshould_sync\u001b[0m\u001b[0;34m:\u001b[0m\u001b[0;34m\u001b[0m\u001b[0;34m\u001b[0m\u001b[0m\n\u001b[1;32m   2042\u001b[0m                                 \u001b[0mcontext\u001b[0m\u001b[0;34m.\u001b[0m\u001b[0masync_wait\u001b[0m\u001b[0;34m(\u001b[0m\u001b[0;34m)\u001b[0m\u001b[0;34m\u001b[0m\u001b[0;34m\u001b[0m\u001b[0m\n",
            "\u001b[0;32m/usr/local/lib/python3.9/dist-packages/tensorflow/python/util/traceback_utils.py\u001b[0m in \u001b[0;36merror_handler\u001b[0;34m(*args, **kwargs)\u001b[0m\n\u001b[1;32m    148\u001b[0m     \u001b[0mfiltered_tb\u001b[0m \u001b[0;34m=\u001b[0m \u001b[0;32mNone\u001b[0m\u001b[0;34m\u001b[0m\u001b[0;34m\u001b[0m\u001b[0m\n\u001b[1;32m    149\u001b[0m     \u001b[0;32mtry\u001b[0m\u001b[0;34m:\u001b[0m\u001b[0;34m\u001b[0m\u001b[0;34m\u001b[0m\u001b[0m\n\u001b[0;32m--> 150\u001b[0;31m       \u001b[0;32mreturn\u001b[0m \u001b[0mfn\u001b[0m\u001b[0;34m(\u001b[0m\u001b[0;34m*\u001b[0m\u001b[0margs\u001b[0m\u001b[0;34m,\u001b[0m \u001b[0;34m**\u001b[0m\u001b[0mkwargs\u001b[0m\u001b[0;34m)\u001b[0m\u001b[0;34m\u001b[0m\u001b[0;34m\u001b[0m\u001b[0m\n\u001b[0m\u001b[1;32m    151\u001b[0m     \u001b[0;32mexcept\u001b[0m \u001b[0mException\u001b[0m \u001b[0;32mas\u001b[0m \u001b[0me\u001b[0m\u001b[0;34m:\u001b[0m\u001b[0;34m\u001b[0m\u001b[0;34m\u001b[0m\u001b[0m\n\u001b[1;32m    152\u001b[0m       \u001b[0mfiltered_tb\u001b[0m \u001b[0;34m=\u001b[0m \u001b[0m_process_traceback_frames\u001b[0m\u001b[0;34m(\u001b[0m\u001b[0me\u001b[0m\u001b[0;34m.\u001b[0m\u001b[0m__traceback__\u001b[0m\u001b[0;34m)\u001b[0m\u001b[0;34m\u001b[0m\u001b[0;34m\u001b[0m\u001b[0m\n",
            "\u001b[0;32m/usr/local/lib/python3.9/dist-packages/tensorflow/python/eager/polymorphic_function/polymorphic_function.py\u001b[0m in \u001b[0;36m__call__\u001b[0;34m(self, *args, **kwds)\u001b[0m\n\u001b[1;32m    878\u001b[0m \u001b[0;34m\u001b[0m\u001b[0m\n\u001b[1;32m    879\u001b[0m       \u001b[0;32mwith\u001b[0m \u001b[0mOptionalXlaContext\u001b[0m\u001b[0;34m(\u001b[0m\u001b[0mself\u001b[0m\u001b[0;34m.\u001b[0m\u001b[0m_jit_compile\u001b[0m\u001b[0;34m)\u001b[0m\u001b[0;34m:\u001b[0m\u001b[0;34m\u001b[0m\u001b[0;34m\u001b[0m\u001b[0m\n\u001b[0;32m--> 880\u001b[0;31m         \u001b[0mresult\u001b[0m \u001b[0;34m=\u001b[0m \u001b[0mself\u001b[0m\u001b[0;34m.\u001b[0m\u001b[0m_call\u001b[0m\u001b[0;34m(\u001b[0m\u001b[0;34m*\u001b[0m\u001b[0margs\u001b[0m\u001b[0;34m,\u001b[0m \u001b[0;34m**\u001b[0m\u001b[0mkwds\u001b[0m\u001b[0;34m)\u001b[0m\u001b[0;34m\u001b[0m\u001b[0;34m\u001b[0m\u001b[0m\n\u001b[0m\u001b[1;32m    881\u001b[0m \u001b[0;34m\u001b[0m\u001b[0m\n\u001b[1;32m    882\u001b[0m       \u001b[0mnew_tracing_count\u001b[0m \u001b[0;34m=\u001b[0m \u001b[0mself\u001b[0m\u001b[0;34m.\u001b[0m\u001b[0mexperimental_get_tracing_count\u001b[0m\u001b[0;34m(\u001b[0m\u001b[0;34m)\u001b[0m\u001b[0;34m\u001b[0m\u001b[0;34m\u001b[0m\u001b[0m\n",
            "\u001b[0;32m/usr/local/lib/python3.9/dist-packages/tensorflow/python/eager/polymorphic_function/polymorphic_function.py\u001b[0m in \u001b[0;36m_call\u001b[0;34m(self, *args, **kwds)\u001b[0m\n\u001b[1;32m    917\u001b[0m       \u001b[0;31m# In this case we have not created variables on the first call. So we can\u001b[0m\u001b[0;34m\u001b[0m\u001b[0;34m\u001b[0m\u001b[0m\n\u001b[1;32m    918\u001b[0m       \u001b[0;31m# run the first trace but we should fail if variables are created.\u001b[0m\u001b[0;34m\u001b[0m\u001b[0;34m\u001b[0m\u001b[0m\n\u001b[0;32m--> 919\u001b[0;31m       \u001b[0mresults\u001b[0m \u001b[0;34m=\u001b[0m \u001b[0mself\u001b[0m\u001b[0;34m.\u001b[0m\u001b[0m_variable_creation_fn\u001b[0m\u001b[0;34m(\u001b[0m\u001b[0;34m*\u001b[0m\u001b[0margs\u001b[0m\u001b[0;34m,\u001b[0m \u001b[0;34m**\u001b[0m\u001b[0mkwds\u001b[0m\u001b[0;34m)\u001b[0m\u001b[0;34m\u001b[0m\u001b[0;34m\u001b[0m\u001b[0m\n\u001b[0m\u001b[1;32m    920\u001b[0m       \u001b[0;32mif\u001b[0m \u001b[0mself\u001b[0m\u001b[0;34m.\u001b[0m\u001b[0m_created_variables\u001b[0m \u001b[0;32mand\u001b[0m \u001b[0;32mnot\u001b[0m \u001b[0mALLOW_DYNAMIC_VARIABLE_CREATION\u001b[0m\u001b[0;34m:\u001b[0m\u001b[0;34m\u001b[0m\u001b[0;34m\u001b[0m\u001b[0m\n\u001b[1;32m    921\u001b[0m         raise ValueError(\"Creating variables on a non-first call to a function\"\n",
            "\u001b[0;32m/usr/local/lib/python3.9/dist-packages/tensorflow/python/eager/polymorphic_function/tracing_compiler.py\u001b[0m in \u001b[0;36m__call__\u001b[0;34m(self, *args, **kwargs)\u001b[0m\n\u001b[1;32m    132\u001b[0m       (concrete_function,\n\u001b[1;32m    133\u001b[0m        filtered_flat_args) = self._maybe_define_function(args, kwargs)\n\u001b[0;32m--> 134\u001b[0;31m     return concrete_function._call_flat(\n\u001b[0m\u001b[1;32m    135\u001b[0m         filtered_flat_args, captured_inputs=concrete_function.captured_inputs)  # pylint: disable=protected-access\n\u001b[1;32m    136\u001b[0m \u001b[0;34m\u001b[0m\u001b[0m\n",
            "\u001b[0;32m/usr/local/lib/python3.9/dist-packages/tensorflow/python/eager/polymorphic_function/monomorphic_function.py\u001b[0m in \u001b[0;36m_call_flat\u001b[0;34m(self, args, captured_inputs, cancellation_manager)\u001b[0m\n\u001b[1;32m   1743\u001b[0m         and executing_eagerly):\n\u001b[1;32m   1744\u001b[0m       \u001b[0;31m# No tape is watching; skip to running the function.\u001b[0m\u001b[0;34m\u001b[0m\u001b[0;34m\u001b[0m\u001b[0m\n\u001b[0;32m-> 1745\u001b[0;31m       return self._build_call_outputs(self._inference_function.call(\n\u001b[0m\u001b[1;32m   1746\u001b[0m           ctx, args, cancellation_manager=cancellation_manager))\n\u001b[1;32m   1747\u001b[0m     forward_backward = self._select_forward_and_backward_functions(\n",
            "\u001b[0;32m/usr/local/lib/python3.9/dist-packages/tensorflow/python/eager/polymorphic_function/monomorphic_function.py\u001b[0m in \u001b[0;36mcall\u001b[0;34m(self, ctx, args, cancellation_manager)\u001b[0m\n\u001b[1;32m    376\u001b[0m       \u001b[0;32mwith\u001b[0m \u001b[0m_InterpolateFunctionError\u001b[0m\u001b[0;34m(\u001b[0m\u001b[0mself\u001b[0m\u001b[0;34m)\u001b[0m\u001b[0;34m:\u001b[0m\u001b[0;34m\u001b[0m\u001b[0;34m\u001b[0m\u001b[0m\n\u001b[1;32m    377\u001b[0m         \u001b[0;32mif\u001b[0m \u001b[0mcancellation_manager\u001b[0m \u001b[0;32mis\u001b[0m \u001b[0;32mNone\u001b[0m\u001b[0;34m:\u001b[0m\u001b[0;34m\u001b[0m\u001b[0;34m\u001b[0m\u001b[0m\n\u001b[0;32m--> 378\u001b[0;31m           outputs = execute.execute(\n\u001b[0m\u001b[1;32m    379\u001b[0m               \u001b[0mstr\u001b[0m\u001b[0;34m(\u001b[0m\u001b[0mself\u001b[0m\u001b[0;34m.\u001b[0m\u001b[0msignature\u001b[0m\u001b[0;34m.\u001b[0m\u001b[0mname\u001b[0m\u001b[0;34m)\u001b[0m\u001b[0;34m,\u001b[0m\u001b[0;34m\u001b[0m\u001b[0;34m\u001b[0m\u001b[0m\n\u001b[1;32m    380\u001b[0m               \u001b[0mnum_outputs\u001b[0m\u001b[0;34m=\u001b[0m\u001b[0mself\u001b[0m\u001b[0;34m.\u001b[0m\u001b[0m_num_outputs\u001b[0m\u001b[0;34m,\u001b[0m\u001b[0;34m\u001b[0m\u001b[0;34m\u001b[0m\u001b[0m\n",
            "\u001b[0;32m/usr/local/lib/python3.9/dist-packages/tensorflow/python/eager/execute.py\u001b[0m in \u001b[0;36mquick_execute\u001b[0;34m(op_name, num_outputs, inputs, attrs, ctx, name)\u001b[0m\n\u001b[1;32m     50\u001b[0m   \u001b[0;32mtry\u001b[0m\u001b[0;34m:\u001b[0m\u001b[0;34m\u001b[0m\u001b[0;34m\u001b[0m\u001b[0m\n\u001b[1;32m     51\u001b[0m     \u001b[0mctx\u001b[0m\u001b[0;34m.\u001b[0m\u001b[0mensure_initialized\u001b[0m\u001b[0;34m(\u001b[0m\u001b[0;34m)\u001b[0m\u001b[0;34m\u001b[0m\u001b[0;34m\u001b[0m\u001b[0m\n\u001b[0;32m---> 52\u001b[0;31m     tensors = pywrap_tfe.TFE_Py_Execute(ctx._handle, device_name, op_name,\n\u001b[0m\u001b[1;32m     53\u001b[0m                                         inputs, attrs, num_outputs)\n\u001b[1;32m     54\u001b[0m   \u001b[0;32mexcept\u001b[0m \u001b[0mcore\u001b[0m\u001b[0;34m.\u001b[0m\u001b[0m_NotOkStatusException\u001b[0m \u001b[0;32mas\u001b[0m \u001b[0me\u001b[0m\u001b[0;34m:\u001b[0m\u001b[0;34m\u001b[0m\u001b[0;34m\u001b[0m\u001b[0m\n",
            "\u001b[0;31mKeyboardInterrupt\u001b[0m: "
          ]
        }
      ],
      "source": [
        "# Assess defended model on adversarial data\n",
        "print(\"Defended accuracy on adversarial images:\", model.evaluate(x=x_adversarial_test, y=y_adversarial_test, verbose=0))\n",
        "\n",
        "# Assess defended model on regular data\n",
        "print(\"Defended accuracy on regular images:\", model.evaluate(x=x_test, y=y_test, verbose=0))\n",
        "\n",
        "print(model.evaluate(dataGen, batch_size=32, verbose=1))"
      ]
    },
    {
      "cell_type": "markdown",
      "source": [
        "# Creating Mixed Dataset of Adversarial images and original"
      ],
      "metadata": {
        "id": "8Z18NATVkp2m"
      },
      "id": "8Z18NATVkp2m"
    },
    {
      "cell_type": "code",
      "source": [
        "from sklearn.utils import shuffle"
      ],
      "metadata": {
        "id": "UElmkpymg3ND"
      },
      "id": "UElmkpymg3ND",
      "execution_count": null,
      "outputs": []
    },
    {
      "cell_type": "code",
      "source": [
        "def generate_image_adversary(model, image, label, eps=2 / 255.0):\n",
        "\t# cast the image\n",
        "\timage = tf.cast(image, tf.float32)\n",
        "\t# record our gradients\n",
        "\twith tf.GradientTape() as tape:\n",
        "\t\t# explicitly indicate that our image should be tacked for\n",
        "\t\t# gradient updates\n",
        "\t\ttape.watch(image)\n",
        "\t\t# use our model to make predictions on the input image and\n",
        "\t\t# then compute the loss\n",
        "\t\tpred = model(image)\n",
        "\t\tloss = tf.keras.losses.MSE(label, pred)\n",
        "\t# calculate the gradients of loss with respect to the image, then\n",
        "\t# compute the sign of the gradient\n",
        "\tgradient = tape.gradient(loss, image)\n",
        "\tsignedGrad = tf.sign(gradient)\n",
        "\t# construct the image adversary\n",
        "\tadversary = (image + (signedGrad * eps)).numpy()\n",
        "\t# return the image adversary to the calling function\n",
        "\treturn adversary"
      ],
      "metadata": {
        "id": "theB0r2SgTTz"
      },
      "id": "theB0r2SgTTz",
      "execution_count": null,
      "outputs": []
    },
    {
      "cell_type": "code",
      "source": [
        "def generate_mixed_adverserial_batch(model, total, images, labels,\n",
        "\tdims, eps=0.01, split=0.5):\n",
        "\t# unpack the image dimensions into convenience variables\n",
        "\t(h, w, c) = dims\n",
        "\t# compute the total number of training images to keep along with\n",
        "\t# the number of adversarial images to generate\n",
        "\ttotalNormal = int(total * split)\n",
        "\ttotalAdv = int(total * (1 - split))\n",
        " # we're constructing a data generator so we need to loop\n",
        "\t# indefinitely\n",
        "\twhile True:\n",
        "\t\t# randomly sample indexes (without replacement) from the\n",
        "\t\t# input data and then use those indexes to sample our normal\n",
        "\t\t# images and labels\n",
        "\t\tidxs = np.random.choice(range(0, len(images)),\n",
        "\t\t\tsize=totalNormal, replace=False)\n",
        "\t\tmixedImages = images[idxs]\n",
        "\t\tmixedLabels = labels[idxs]\n",
        "\t\t# again, randomly sample indexes from the input data, this\n",
        "\t\t# time to construct our adversarial images\n",
        "\t\tidxs = np.random.choice(range(0, len(images)), size=totalAdv,\n",
        "\t\t\treplace=False)\n",
        "  \t\t# loop over the indexes\n",
        "\t\tfor i in idxs:\n",
        "\t\t\t# grab the current image and label, then use that data to\n",
        "\t\t\t# generate the adversarial example\n",
        "\t\t\timage = images[i]\n",
        "\t\t\tlabel = labels[i]\n",
        "\t\t\tadversary = generate_image_adversary(model,\n",
        "\t\t\t\timage.reshape(1, h, w, c), label, eps=eps)\n",
        "\t\t\t# update the mixed images and labels lists\n",
        "\t\t\tmixedImages = np.vstack([mixedImages, adversary])\n",
        "\t\t\tmixedLabels = np.vstack([mixedLabels, label])\n",
        "\t\t# shuffle the images and labels together\n",
        "\t\t(mixedImages, mixedLabels) = shuffle(mixedImages, mixedLabels)\n",
        "\t\t# yield the mixed images and labels to the calling function\n",
        "\t\treturn mixedImages, mixedLabels"
      ],
      "metadata": {
        "id": "PktcMu-HeUOA"
      },
      "id": "PktcMu-HeUOA",
      "execution_count": null,
      "outputs": []
    },
    {
      "cell_type": "code",
      "source": [
        "x_mixed_train, y_mixed_train = generate_mixed_adverserial_batch(model, 20000, x_train, y_train, (32, 32, 3), eps=0.1, split=0.5)\n",
        "x_mixed_test, y_mixed_test = generate_mixed_adverserial_batch(model, 10000, x_train, y_train, (32, 32, 3), eps=0.1, split=0.5)"
      ],
      "metadata": {
        "id": "Chu0qd6RaxYE"
      },
      "id": "Chu0qd6RaxYE",
      "execution_count": null,
      "outputs": []
    },
    {
      "cell_type": "code",
      "source": [
        "##  x_mixed_train_2, y_mixed_train_2 = generate_mixed_adverserial_batch(model, 20000, x_mixed_train, y_mixed_train, (32, 32, 3), eps=0.1, split=0.5)\n",
        "##  x_mixed_test_2, y_mixed_test_2 = generate_mixed_adverserial_batch(model, 10000, x_mixed_train, y_train_train, (32, 32, 3), eps=0.1, split=0.5)"
      ],
      "metadata": {
        "id": "so1HbTiLyTco"
      },
      "id": "so1HbTiLyTco",
      "execution_count": null,
      "outputs": []
    },
    {
      "cell_type": "code",
      "source": [
        "len(x_mixed_train)"
      ],
      "metadata": {
        "colab": {
          "base_uri": "https://localhost:8080/"
        },
        "id": "CvIoSoILvYya",
        "outputId": "2bfbb030-cb0e-4a01-c336-01a76e7f51bd"
      },
      "id": "CvIoSoILvYya",
      "execution_count": null,
      "outputs": [
        {
          "output_type": "execute_result",
          "data": {
            "text/plain": [
              "20000"
            ]
          },
          "metadata": {},
          "execution_count": 38
        }
      ]
    },
    {
      "cell_type": "code",
      "source": [
        "print(\"Accuracy on mixed dataset:\", model.evaluate(x = x_mixed_test,y = y_mixed_test, batch_size=32, verbose=1)) # testing the original model"
      ],
      "metadata": {
        "colab": {
          "base_uri": "https://localhost:8080/"
        },
        "id": "3f8Ub7kijK27",
        "outputId": "d5f315a2-57bd-433e-c78b-e8d27c88ace1"
      },
      "id": "3f8Ub7kijK27",
      "execution_count": null,
      "outputs": [
        {
          "output_type": "stream",
          "name": "stdout",
          "text": [
            "313/313 [==============================] - 1s 2ms/step - loss: 4.3186 - accuracy: 0.5411\n",
            "Accuracy on mixed dataset: [4.318630695343018, 0.541100025177002]\n"
          ]
        }
      ]
    },
    {
      "cell_type": "code",
      "source": [
        "model_mixed.fit(x_mixed_train,y_mixed_train, steps_per_epoch=len(x_mixed_train) // 32,epochs=10)"
      ],
      "metadata": {
        "id": "NeIACImGf5_1",
        "colab": {
          "base_uri": "https://localhost:8080/"
        },
        "outputId": "85e97541-b7ff-4b83-b4b1-13d7f44e2ce7"
      },
      "id": "NeIACImGf5_1",
      "execution_count": null,
      "outputs": [
        {
          "output_type": "stream",
          "name": "stdout",
          "text": [
            "Epoch 1/10\n",
            "625/625 [==============================] - 4s 4ms/step - loss: 1.6917 - accuracy: 0.3772\n",
            "Epoch 2/10\n",
            "625/625 [==============================] - 2s 4ms/step - loss: 1.3449 - accuracy: 0.5113\n",
            "Epoch 3/10\n",
            "625/625 [==============================] - 2s 4ms/step - loss: 1.2103 - accuracy: 0.5672\n",
            "Epoch 4/10\n",
            "625/625 [==============================] - 2s 4ms/step - loss: 1.1022 - accuracy: 0.6097\n",
            "Epoch 5/10\n",
            "625/625 [==============================] - 2s 4ms/step - loss: 1.0008 - accuracy: 0.6477\n",
            "Epoch 6/10\n",
            "625/625 [==============================] - 2s 4ms/step - loss: 0.9136 - accuracy: 0.6805\n",
            "Epoch 7/10\n",
            "625/625 [==============================] - 2s 4ms/step - loss: 0.8234 - accuracy: 0.7080\n",
            "Epoch 8/10\n",
            "625/625 [==============================] - 2s 4ms/step - loss: 0.7436 - accuracy: 0.7402\n",
            "Epoch 9/10\n",
            "625/625 [==============================] - 2s 4ms/step - loss: 0.6605 - accuracy: 0.7710\n",
            "Epoch 10/10\n",
            "625/625 [==============================] - 2s 4ms/step - loss: 0.5772 - accuracy: 0.7977\n"
          ]
        },
        {
          "output_type": "execute_result",
          "data": {
            "text/plain": [
              "<keras.callbacks.History at 0x7f0f34b25f10>"
            ]
          },
          "metadata": {},
          "execution_count": 63
        }
      ]
    },
    {
      "cell_type": "code",
      "source": [
        "print(\"Base accuracy on regular images:\", model_mixed.evaluate(x=x_test, y=y_test, verbose=0))\n",
        "print(\"Accuracy on adversarial images:\", model_mixed.evaluate(x=x_adversarial_test, y=y_adversarial_test))\n",
        "print(\"Accuracy on mixed images:\", model_mixed.evaluate(x=x_mixed_test, y=y_mixed_test))\n",
        " print(\"Accuracy on second order images:\", model_mixed.evaluate(x=x_mixed_test, y=y_mixed_test))\n"
      ],
      "metadata": {
        "id": "MUjti7-Oit9D",
        "colab": {
          "base_uri": "https://localhost:8080/"
        },
        "outputId": "bb767504-21bf-4108-fa55-8987f7ccc3e5"
      },
      "id": "MUjti7-Oit9D",
      "execution_count": null,
      "outputs": [
        {
          "output_type": "stream",
          "name": "stdout",
          "text": [
            "Base accuracy on regular images: [1.232706069946289, 0.6114000082015991]\n",
            "313/313 [==============================] - 1s 3ms/step - loss: 1.7147 - accuracy: 0.4535\n",
            "Accuracy on adversarial images: [1.714707374572754, 0.45350000262260437]\n",
            "313/313 [==============================] - 1s 2ms/step - loss: 1.0718 - accuracy: 0.6683\n",
            "Accuracy on mixed images: [1.0718257427215576, 0.6682999730110168]\n"
          ]
        }
      ]
    },
    {
      "cell_type": "code",
      "source": [
        "dataGen = generate_mixed_adverserial_batch(model, 32,\n",
        "\tx_mixed_train, y_mixed_train, (32, 32, 3), eps=0.1, split=0.5)\n",
        "model.fit(dataGen, steps_per_epoch=len(x_mixed_train) // 32,epochs=10)"
      ],
      "metadata": {
        "id": "H-6kOxkOiQE_"
      },
      "id": "H-6kOxkOiQE_",
      "execution_count": null,
      "outputs": []
    },
    {
      "cell_type": "code",
      "source": [
        "#print(\"Accuracy on mixed dataset:\", model_mixed.evaluate(x= x_mixed_train,y_mixed_train, batch_size=128, verbose=1)) # testing the original model"
      ],
      "metadata": {
        "colab": {
          "base_uri": "https://localhost:8080/",
          "height": 131
        },
        "id": "8rRdnNQ_Ud_V",
        "outputId": "b3c39942-646a-4c69-8c42-a254262018db"
      },
      "id": "8rRdnNQ_Ud_V",
      "execution_count": null,
      "outputs": [
        {
          "output_type": "error",
          "ename": "SyntaxError",
          "evalue": "ignored",
          "traceback": [
            "\u001b[0;36m  File \u001b[0;32m\"<ipython-input-65-ba959dc3cd8b>\"\u001b[0;36m, line \u001b[0;32m1\u001b[0m\n\u001b[0;31m    print(\"Accuracy on mixed dataset:\", model_mixed.evaluate(x= x_mixed_train,y_mixed_train, batch_size=128, verbose=1)) # testing the original model\u001b[0m\n\u001b[0m                                                                                                                      ^\u001b[0m\n\u001b[0;31mSyntaxError\u001b[0m\u001b[0;31m:\u001b[0m positional argument follows keyword argument\n"
          ]
        }
      ]
    },
    {
      "cell_type": "code",
      "source": [
        "print(\"Accuracy on first adversarial dataset:\", model.evaluate(x = x_adversarial_test,y = y_adversarial_test, verbose=0))\n",
        "print(\"Base accuracy on regular images:\", model.evaluate(x=x_test, y=y_test, verbose=0))"
      ],
      "metadata": {
        "id": "sto4SSzWimxm"
      },
      "id": "sto4SSzWimxm",
      "execution_count": null,
      "outputs": []
    },
    {
      "cell_type": "markdown",
      "source": [
        "Second Order Images"
      ],
      "metadata": {
        "id": "N06J7dCK9BEx"
      },
      "id": "N06J7dCK9BEx"
    },
    {
      "cell_type": "code",
      "source": [
        "#x_mixed_train_2, y_mixed_train_2 = generate_mixed_adverserial_batch(model, 20000, x_mixed_train, y_mixed_train, (32, 32, 3), eps=0.1, split=0.5)\n",
        "x_mixed_test_2, y_mixed_test_2 = generate_mixed_adverserial_batch(model, 10000, x_mixed_train, y_mixed_train, (32, 32, 3), eps=0.1, split=0.5)"
      ],
      "metadata": {
        "id": "SKPjVdiQ9ElH"
      },
      "id": "SKPjVdiQ9ElH",
      "execution_count": null,
      "outputs": []
    },
    {
      "cell_type": "code",
      "source": [
        "len(x_mixed_train_2)"
      ],
      "metadata": {
        "colab": {
          "base_uri": "https://localhost:8080/"
        },
        "id": "KbZicpRBGZcF",
        "outputId": "9e912463-37a7-46da-dbda-42c2db453959"
      },
      "id": "KbZicpRBGZcF",
      "execution_count": null,
      "outputs": [
        {
          "output_type": "execute_result",
          "data": {
            "text/plain": [
              "20000"
            ]
          },
          "metadata": {},
          "execution_count": 70
        }
      ]
    },
    {
      "cell_type": "code",
      "source": [
        "model_second_order.fit(x_mixed_train_2,y_mixed_train_2, steps_per_epoch=len(x_mixed_train) // 32,epochs=10)"
      ],
      "metadata": {
        "colab": {
          "base_uri": "https://localhost:8080/"
        },
        "id": "VjmqKEs_9O09",
        "outputId": "77dd4831-5bcb-40dd-bef1-acc12fa5b38e"
      },
      "id": "VjmqKEs_9O09",
      "execution_count": null,
      "outputs": [
        {
          "output_type": "stream",
          "name": "stdout",
          "text": [
            "Epoch 1/10\n",
            "625/625 [==============================] - 2s 4ms/step - loss: 1.6370 - accuracy: 0.3999\n",
            "Epoch 2/10\n",
            "625/625 [==============================] - 2s 4ms/step - loss: 1.3495 - accuracy: 0.5200\n",
            "Epoch 3/10\n",
            "625/625 [==============================] - 2s 4ms/step - loss: 1.1869 - accuracy: 0.5801\n",
            "Epoch 4/10\n",
            "625/625 [==============================] - 2s 4ms/step - loss: 1.0664 - accuracy: 0.6273\n",
            "Epoch 5/10\n",
            "625/625 [==============================] - 2s 4ms/step - loss: 0.9473 - accuracy: 0.6733\n",
            "Epoch 6/10\n",
            "625/625 [==============================] - 2s 4ms/step - loss: 0.8363 - accuracy: 0.7105\n",
            "Epoch 7/10\n",
            "625/625 [==============================] - 2s 4ms/step - loss: 0.7396 - accuracy: 0.7467\n",
            "Epoch 8/10\n",
            "625/625 [==============================] - 2s 4ms/step - loss: 0.6397 - accuracy: 0.7808\n",
            "Epoch 9/10\n",
            "625/625 [==============================] - 2s 4ms/step - loss: 0.5557 - accuracy: 0.8141\n",
            "Epoch 10/10\n",
            "625/625 [==============================] - 2s 4ms/step - loss: 0.4688 - accuracy: 0.8428\n"
          ]
        },
        {
          "output_type": "execute_result",
          "data": {
            "text/plain": [
              "<keras.callbacks.History at 0x7f0f3024eeb0>"
            ]
          },
          "metadata": {},
          "execution_count": 73
        }
      ]
    },
    {
      "cell_type": "code",
      "source": [
        "print(\"Base accuracy on regular images:\", model_second_order.evaluate(x=x_test, y=y_test, verbose=0))\n",
        "print(\"Accuracy on adversarial images:\", model_second_order.evaluate(x=x_adversarial_test, y=y_adversarial_test))\n",
        "print(\"Accuracy on mixed images:\", model_second_order.evaluate(x=x_mixed_test, y=y_mixed_test))\n",
        "print(\"Accuracy on second order images:\", model_second_order.evaluate(x=x_mixed_test_2, y=y_mixed_test_2))\n"
      ],
      "metadata": {
        "colab": {
          "base_uri": "https://localhost:8080/"
        },
        "id": "gmIaXyyM9TI5",
        "outputId": "77f859ab-45e1-439b-852d-abd4ba4bc49b"
      },
      "id": "gmIaXyyM9TI5",
      "execution_count": null,
      "outputs": [
        {
          "output_type": "stream",
          "name": "stdout",
          "text": [
            "Base accuracy on regular images: [1.3885575532913208, 0.5845000147819519]\n",
            "313/313 [==============================] - 1s 2ms/step - loss: 1.8907 - accuracy: 0.4265\n",
            "Accuracy on adversarial images: [1.8906900882720947, 0.42649999260902405]\n",
            "313/313 [==============================] - 1s 3ms/step - loss: 1.2477 - accuracy: 0.6401\n",
            "Accuracy on mixed images: [1.247717261314392, 0.6401000022888184]\n",
            "313/313 [==============================] - 1s 2ms/step - loss: 0.6497 - accuracy: 0.8000\n",
            "Accuracy on second order images: [0.6497003436088562, 0.800000011920929]\n"
          ]
        }
      ]
    },
    {
      "cell_type": "code",
      "source": [
        "print(\"Base accuracy on regular images:\", model.evaluate(x=x_mixed_test_2, y=y_mixed_test_2, verbose=0))\n",
        "print(\"Accuracy on adversarial images:\", model_adversary.evaluate(x=x_mixed_test_2, y=y_mixed_test_2,verbose=0))\n",
        "print(\"Accuracy on mixed images:\", model_mixed.evaluate(x=x_mixed_test_2, y=y_mixed_test_2,verbose=0))\n",
        "print(\"Accuracy on second order images:\", model_second_order.evaluate(x=x_mixed_test_2, y=y_mixed_test_2,verbose=0))\n"
      ],
      "metadata": {
        "colab": {
          "base_uri": "https://localhost:8080/"
        },
        "id": "CV6MOTk-H9OS",
        "outputId": "2fbd6204-033c-42f3-a0f8-9d6f9aab3170"
      },
      "id": "CV6MOTk-H9OS",
      "execution_count": null,
      "outputs": [
        {
          "output_type": "stream",
          "name": "stdout",
          "text": [
            "Base accuracy on regular images: [1.2516642808914185, 0.6553000211715698]\n",
            "Accuracy on adversarial images: [2.304090738296509, 0.6313999891281128]\n",
            "Accuracy on mixed images: [0.5750563740730286, 0.8011000156402588]\n",
            "Accuracy on second order images: [0.6497003436088562, 0.800000011920929]\n"
          ]
        }
      ]
    },
    {
      "cell_type": "code",
      "source": [
        "model_adversary.evaluate(x=x_adversarial_test,y=y_adversarial_test)"
      ],
      "metadata": {
        "colab": {
          "base_uri": "https://localhost:8080/"
        },
        "id": "o2LeiEpdItym",
        "outputId": "b8c2fc81-e6ea-4226-9f64-fc09bab632f7"
      },
      "id": "o2LeiEpdItym",
      "execution_count": null,
      "outputs": [
        {
          "output_type": "stream",
          "name": "stdout",
          "text": [
            "313/313 [==============================] - 1s 3ms/step - loss: 2.3161 - accuracy: 0.5971\n"
          ]
        },
        {
          "output_type": "execute_result",
          "data": {
            "text/plain": [
              "[2.3160862922668457, 0.597100019454956]"
            ]
          },
          "metadata": {},
          "execution_count": 85
        }
      ]
    },
    {
      "cell_type": "code",
      "source": [],
      "metadata": {
        "id": "JgpheQ6TKDBy"
      },
      "id": "JgpheQ6TKDBy",
      "execution_count": null,
      "outputs": []
    }
  ],
  "metadata": {
    "kernelspec": {
      "display_name": "Python 3 (ipykernel)",
      "language": "python",
      "name": "python3"
    },
    "language_info": {
      "codemirror_mode": {
        "name": "ipython",
        "version": 3
      },
      "file_extension": ".py",
      "mimetype": "text/x-python",
      "name": "python",
      "nbconvert_exporter": "python",
      "pygments_lexer": "ipython3",
      "version": "3.9.12"
    },
    "colab": {
      "provenance": []
    },
    "accelerator": "GPU",
    "gpuClass": "premium"
  },
  "nbformat": 4,
  "nbformat_minor": 5
}